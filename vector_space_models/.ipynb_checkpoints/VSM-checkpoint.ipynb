{
 "cells": [
  {
   "cell_type": "markdown",
   "id": "excessive-tractor",
   "metadata": {},
   "source": [
    "# Vector Space Models"
   ]
  },
  {
   "cell_type": "markdown",
   "id": "compatible-withdrawal",
   "metadata": {},
   "source": [
    "* **Name:** Aldo Barriente\n",
    "* **Course:** DS 5001\n",
    "* **Instructor:** Professor Rafael Alvarado"
   ]
  },
  {
   "cell_type": "markdown",
   "id": "civil-independence",
   "metadata": {},
   "source": [
    "## Set up"
   ]
  },
  {
   "cell_type": "code",
   "execution_count": 6,
   "id": "lesser-bunch",
   "metadata": {},
   "outputs": [],
   "source": [
    "data_in = './data_in/'\n",
    "data_out = './data_out/'\n",
    "data_prefix = 'zapatistas'\n"
   ]
  },
  {
   "cell_type": "code",
   "execution_count": 7,
   "id": "smart-advancement",
   "metadata": {},
   "outputs": [],
   "source": [
    "import pandas as pd\n",
    "import numpy as np"
   ]
  },
  {
   "cell_type": "markdown",
   "id": "accessory-cornwall",
   "metadata": {},
   "source": [
    "## Importing `LIB`"
   ]
  },
  {
   "cell_type": "code",
   "execution_count": 22,
   "id": "completed-retail",
   "metadata": {},
   "outputs": [],
   "source": [
    "LIB = pd.read_csv(f'{data_in}/{data_prefix}-LIB.csv')"
   ]
  },
  {
   "cell_type": "markdown",
   "id": "quantitative-richmond",
   "metadata": {},
   "source": [
    "## Importing `TOKEN`"
   ]
  },
  {
   "cell_type": "code",
   "execution_count": 8,
   "id": "global-ceremony",
   "metadata": {},
   "outputs": [],
   "source": [
    "TOKEN = pd.read_csv(f'{data_in}/{data_prefix}-TOKEN.csv')\n",
    "OHCO = TOKEN.columns.to_list()[:5]\n",
    "TOKEN = TOKEN.set_index(OHCO)"
   ]
  },
  {
   "cell_type": "code",
   "execution_count": 26,
   "id": "limited-brazilian",
   "metadata": {},
   "outputs": [],
   "source": [
    "SENTS = OHCO[:4]\n",
    "PARAS = OHCO[:3]\n",
    "SECS = OHCO[:2]\n",
    "TEXTS = OHCO[:1]"
   ]
  },
  {
   "cell_type": "markdown",
   "id": "major-export",
   "metadata": {},
   "source": [
    "## Importing `VOCAB`"
   ]
  },
  {
   "cell_type": "code",
   "execution_count": 10,
   "id": "little-biography",
   "metadata": {},
   "outputs": [],
   "source": [
    "VOCAB = pd.read_csv(f'{data_in}/{data_prefix}-VOCAB.csv').dropna().set_index('term_str')"
   ]
  },
  {
   "cell_type": "markdown",
   "id": "honest-affairs",
   "metadata": {},
   "source": [
    "## Adding basic statistics to `VOCAB` table"
   ]
  },
  {
   "cell_type": "code",
   "execution_count": 13,
   "id": "capital-sydney",
   "metadata": {},
   "outputs": [],
   "source": [
    "VOCAB['term_code'] = VOCAB.apply(lambda x: x.name + '/' + x.pos_max, 1)"
   ]
  },
  {
   "cell_type": "code",
   "execution_count": 15,
   "id": "prescribed-syntax",
   "metadata": {},
   "outputs": [],
   "source": [
    "N_vocab = VOCAB.shape[0]\n",
    "U_vocab = 1/N_vocab"
   ]
  },
  {
   "cell_type": "code",
   "execution_count": 16,
   "id": "massive-princeton",
   "metadata": {},
   "outputs": [],
   "source": [
    "VOCAB['p'] = VOCAB.n / VOCAB.n.sum()  # Probability\n",
    "VOCAB['s'] = 1 / VOCAB.p              # Surprise\n",
    "VOCAB['i'] = np.log2(VOCAB.s)         # Information\n",
    "VOCAB['h'] = VOCAB.p * VOCAB.i        # Entropy"
   ]
  },
  {
   "cell_type": "code",
   "execution_count": 17,
   "id": "auburn-peninsula",
   "metadata": {},
   "outputs": [],
   "source": [
    "VOCAB['wlen'] = VOCAB.index.str.len()"
   ]
  },
  {
   "cell_type": "code",
   "execution_count": 18,
   "id": "patent-store",
   "metadata": {},
   "outputs": [],
   "source": [
    "H_vocab = round(VOCAB.h.sum(), 2)\n",
    "W_len = round(VOCAB.wlen.mean(), 2)\n",
    "R_vocab = round((1 - H_vocab / np.log2(VOCAB.shape[0])) * 100, 2)\n",
    "R_wlen = round((1 - W_len / np.log2(VOCAB.shape[0])) * 100, 2)\n",
    "HX_vocab = round(U_vocab * VOCAB.i.sum(), 2)"
   ]
  },
  {
   "cell_type": "markdown",
   "id": "extreme-sight",
   "metadata": {},
   "source": [
    "## Adding `term_rank` and Zipf's k to each term"
   ]
  },
  {
   "cell_type": "code",
   "execution_count": 19,
   "id": "threatened-kentucky",
   "metadata": {},
   "outputs": [],
   "source": [
    "VOCAB = VOCAB.sort_values('n', ascending=False)\n",
    "VOCAB['term_rank'] = [r+1 for r in range(VOCAB.shape[0])]"
   ]
  },
  {
   "cell_type": "code",
   "execution_count": 20,
   "id": "democratic-somerset",
   "metadata": {},
   "outputs": [],
   "source": [
    "VOCAB['zipf_k'] = VOCAB.n * VOCAB.term_rank\n",
    "ZK = round(VOCAB.zipf_k.mean(), 2)"
   ]
  },
  {
   "cell_type": "code",
   "execution_count": 21,
   "id": "military-appearance",
   "metadata": {},
   "outputs": [],
   "source": [
    "VOCAB['zipf_y'] = ZK / VOCAB.term_rank"
   ]
  },
  {
   "cell_type": "markdown",
   "id": "endless-cursor",
   "metadata": {},
   "source": [
    "## `TFIDF` Function"
   ]
  },
  {
   "cell_type": "code",
   "execution_count": 24,
   "id": "desirable-regular",
   "metadata": {},
   "outputs": [],
   "source": [
    "def get_tfidf(tokens, vocab, bag, tf_type='n', item_type='term_str', alpha=.4, new_col_suffix=''):\n",
    "    \n",
    "    # Create BOW\n",
    "    BOW = tokens.groupby(bag+[item_type])[item_type].count()\\\n",
    "        .to_frame('n')\n",
    "    BOW['c'] = 1\n",
    "    \n",
    "    # Compute TF\n",
    "    D = BOW.groupby(bag).n\n",
    "    if tf_type == 'n':\n",
    "        BOW['tf'] = BOW.n\n",
    "    elif tf_type == 'sum':\n",
    "        BOW['tf'] = D.apply(lambda x: x / x.sum()) # cp = P(w|d)\n",
    "    elif tf_type == 'l2':\n",
    "        BOW['tf'] = D.apply(lambda x: x / np.sqrt((x**2).sum()))\n",
    "    elif tf_type == 'max':\n",
    "        BOW['tf'] = D.apply(lambda x: alpha + (1-alpha) * (x / x.max()))\n",
    "    elif tf_type == 'log':\n",
    "        BOW['tf'] = D.apply(lambda x: np.log2(1 + x))\n",
    "    elif tf_type == 'sub':\n",
    "        BOW['tf'] = D.apply(lambda x: 1 + np.log2(x))\n",
    "    elif tf_type == 'bool':\n",
    "        BOW['tf'] = BOW.c\n",
    "    elif tf_type == 'bool2':\n",
    "        BOW['tf'] = D.apply(lambda x: 1 / len(x))\n",
    "    \n",
    "    # Normalize TF\n",
    "    \n",
    "    # Compute IDF\n",
    "    vocab['df'] = BOW.groupby('term_str').n.count()\n",
    "    N_docs = len(D.groups)\n",
    "    vocab['idf'] = np.log2(N_docs/vocab.df)\n",
    "    \n",
    "    # Compute TFIDF\n",
    "    BOW['tfidf'] = BOW.tf * vocab.idf\n",
    "    \n",
    "    # Compute aggregate TFIDF\n",
    "    col = 'tfidf_sum' + new_col_suffix\n",
    "    vocab[col] = BOW.groupby(item_type)['tfidf'].sum()\n",
    "    \n",
    "#     vocab[col] = (vocab[col] - vocab[col].mean()) / vocab[col].std()\n",
    "#     vocab[col] = vocab[col] - vocab[col].min()\n",
    "    \n",
    "    return vocab"
   ]
  },
  {
   "cell_type": "markdown",
   "id": "corresponding-hormone",
   "metadata": {},
   "source": [
    "## Top words by bag"
   ]
  },
  {
   "cell_type": "markdown",
   "id": "universal-notion",
   "metadata": {},
   "source": [
    "### By texts"
   ]
  },
  {
   "cell_type": "code",
   "execution_count": 30,
   "id": "metropolitan-stretch",
   "metadata": {},
   "outputs": [],
   "source": [
    "VOCAB = get_tfidf(TOKEN, VOCAB, bag=TEXTS, tf_type='max', new_col_suffix='_text_max', alpha=0)"
   ]
  },
  {
   "cell_type": "code",
   "execution_count": 31,
   "id": "literary-thompson",
   "metadata": {},
   "outputs": [
    {
     "data": {
      "text/plain": [
       "term_str\n",
       "q             0.231874\n",
       "votán         0.156191\n",
       "boys          0.103164\n",
       "april         0.093273\n",
       "she           0.081875\n",
       "guardian      0.081814\n",
       "m             0.077948\n",
       "thats         0.074018\n",
       "law           0.067266\n",
       "girls         0.061228\n",
       "addressees    0.060179\n",
       "beetle        0.059501\n",
       "resist        0.058690\n",
       "theyre        0.055799\n",
       "newspaper     0.054907\n",
       "convention    0.054495\n",
       "tobacco       0.053866\n",
       "morquecho     0.052679\n",
       "revolution    0.049517\n",
       "tender        0.047707\n",
       "Name: tfidf_sum_text_max, dtype: float64"
      ]
     },
     "execution_count": 31,
     "metadata": {},
     "output_type": "execute_result"
    }
   ],
   "source": [
    "VOCAB['tfidf_sum_text_max'].sort_values(ascending=False).head(20)"
   ]
  },
  {
   "cell_type": "markdown",
   "id": "perceived-fundamental",
   "metadata": {},
   "source": [
    "### By sections"
   ]
  },
  {
   "cell_type": "code",
   "execution_count": 32,
   "id": "literary-engineer",
   "metadata": {},
   "outputs": [],
   "source": [
    "VOCAB = get_tfidf(TOKEN, VOCAB, bag=SECS, tf_type='max', new_col_suffix='_secs_max', alpha=0)"
   ]
  },
  {
   "cell_type": "code",
   "execution_count": 33,
   "id": "contrary-password",
   "metadata": {
    "scrolled": false
   },
   "outputs": [
    {
     "data": {
      "text/plain": [
       "term_str\n",
       "i           8.024289\n",
       "we          4.333476\n",
       "he          4.101807\n",
       "was         4.062942\n",
       "us          3.852278\n",
       "you         3.713446\n",
       "your        3.458170\n",
       "they        3.402461\n",
       "sisters     3.254994\n",
       "brothers    3.253932\n",
       "there       3.241337\n",
       "were        3.125123\n",
       "dialogue    3.091010\n",
       "law         3.055964\n",
       "q           2.970630\n",
       "or          2.959872\n",
       "but         2.927209\n",
       "what        2.918446\n",
       "because     2.842126\n",
       "mr          2.834232\n",
       "Name: tfidf_sum_secs_max, dtype: float64"
      ]
     },
     "execution_count": 33,
     "metadata": {},
     "output_type": "execute_result"
    }
   ],
   "source": [
    "VOCAB['tfidf_sum_secs_max'].sort_values(ascending=False).head(20)"
   ]
  },
  {
   "cell_type": "markdown",
   "id": "least-champagne",
   "metadata": {},
   "source": [
    "### By paragraphs"
   ]
  },
  {
   "cell_type": "code",
   "execution_count": 34,
   "id": "ahead-madison",
   "metadata": {},
   "outputs": [],
   "source": [
    "VOCAB = get_tfidf(TOKEN, VOCAB, bag=PARAS, tf_type='max', new_col_suffix='_paras_max', alpha=0)"
   ]
  },
  {
   "cell_type": "code",
   "execution_count": 35,
   "id": "historic-habitat",
   "metadata": {
    "scrolled": false
   },
   "outputs": [
    {
     "data": {
      "text/plain": [
       "term_str\n",
       "the     776.028383\n",
       "to      749.063612\n",
       "we      734.768893\n",
       "you     729.274686\n",
       "and     689.418311\n",
       "of      683.136032\n",
       "that    666.446760\n",
       "a       601.800394\n",
       "in      589.271990\n",
       "is      525.756475\n",
       "are     518.938764\n",
       "they    512.388466\n",
       "for     497.112083\n",
       "our     471.630890\n",
       "it      455.551066\n",
       "have    452.831023\n",
       "will    447.619703\n",
       "q       423.811232\n",
       "1994    422.147424\n",
       "be      421.485241\n",
       "Name: tfidf_sum_paras_max, dtype: float64"
      ]
     },
     "execution_count": 35,
     "metadata": {},
     "output_type": "execute_result"
    }
   ],
   "source": [
    "VOCAB['tfidf_sum_paras_max'].sort_values(ascending=False).head(20)"
   ]
  },
  {
   "cell_type": "markdown",
   "id": "modular-caribbean",
   "metadata": {},
   "source": [
    "## Exporting"
   ]
  },
  {
   "cell_type": "code",
   "execution_count": 40,
   "id": "pleased-corps",
   "metadata": {
    "scrolled": true
   },
   "outputs": [],
   "source": [
    "TOKEN.to_csv(f'{data_out}/{data_prefix}-TOKEN.csv')\n",
    "LIB.to_csv(f'{data_out}/{data_prefix}-LIB.csv')\n",
    "VOCAB.to_csv(f'{data_out}/{data_prefix}-VOCAB.csv')"
   ]
  }
 ],
 "metadata": {
  "kernelspec": {
   "display_name": "Python 3",
   "language": "python",
   "name": "python3"
  },
  "language_info": {
   "codemirror_mode": {
    "name": "ipython",
    "version": 3
   },
   "file_extension": ".py",
   "mimetype": "text/x-python",
   "name": "python",
   "nbconvert_exporter": "python",
   "pygments_lexer": "ipython3",
   "version": "3.6.4"
  },
  "toc": {
   "base_numbering": 1,
   "nav_menu": {},
   "number_sections": true,
   "sideBar": true,
   "skip_h1_title": true,
   "title_cell": "Table of Contents",
   "title_sidebar": "Contents",
   "toc_cell": false,
   "toc_position": {},
   "toc_section_display": true,
   "toc_window_display": true
  }
 },
 "nbformat": 4,
 "nbformat_minor": 5
}
