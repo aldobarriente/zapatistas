{
 "cells": [
  {
   "cell_type": "markdown",
   "id": "differential-brush",
   "metadata": {},
   "source": [
    "# Text Models"
   ]
  },
  {
   "cell_type": "markdown",
   "id": "independent-gateway",
   "metadata": {},
   "source": [
    "* **Name:** Aldo Barriente\n",
    "* **Course:** DS 5001\n",
    "* **Instructor:** Professor Rafael Alvarado"
   ]
  },
  {
   "cell_type": "markdown",
   "id": "romantic-chick",
   "metadata": {},
   "source": [
    "## Set up"
   ]
  },
  {
   "cell_type": "code",
   "execution_count": 5,
   "id": "official-harvest",
   "metadata": {},
   "outputs": [],
   "source": [
    "data_in = './data_in'\n",
    "data_out = './data_out'\n",
    "data_prefix = 'zapatistas'"
   ]
  },
  {
   "cell_type": "code",
   "execution_count": 2,
   "id": "large-vegetable",
   "metadata": {},
   "outputs": [],
   "source": [
    "import pandas as pd"
   ]
  },
  {
   "cell_type": "code",
   "execution_count": 7,
   "id": "french-sigma",
   "metadata": {},
   "outputs": [],
   "source": [
    "lines = ''\n",
    "with open(f'{data_in}/{data_prefix}-ch1.txt', 'r') as chap_one:\n",
    "    lines = chap_one.readlines()"
   ]
  },
  {
   "cell_type": "markdown",
   "id": "stretch-scratch",
   "metadata": {},
   "source": [
    "## Creating dataframe"
   ]
  },
  {
   "cell_type": "code",
   "execution_count": 11,
   "id": "organizational-blade",
   "metadata": {},
   "outputs": [],
   "source": [
    "text = pd.DataFrame(lines)\n",
    "text.columns = ['line_str']\n",
    "text.index.name = 'line_num'\n",
    "text['len'] = text.line_str.str.len()"
   ]
  },
  {
   "cell_type": "code",
   "execution_count": 12,
   "id": "outer-principle",
   "metadata": {},
   "outputs": [
    {
     "data": {
      "text/plain": [
       "count    1044.000000\n",
       "mean       53.414751\n",
       "std        26.836128\n",
       "min         1.000000\n",
       "25%        27.000000\n",
       "50%        70.000000\n",
       "75%        73.000000\n",
       "max        78.000000\n",
       "Name: len, dtype: float64"
      ]
     },
     "execution_count": 12,
     "metadata": {},
     "output_type": "execute_result"
    }
   ],
   "source": [
    "text.len.describe()"
   ]
  },
  {
   "cell_type": "markdown",
   "id": "earlier-clearing",
   "metadata": {},
   "source": [
    "## Counting tokens"
   ]
  },
  {
   "cell_type": "code",
   "execution_count": 17,
   "id": "rolled-isolation",
   "metadata": {},
   "outputs": [],
   "source": [
    "TOKENS = text.line_str.str.split(expand=True).stack().to_frame()\n",
    "TOKENS.index.names = ['line_num', 'token_num']\n",
    "TOKENS.columns = ['token_str']"
   ]
  },
  {
   "cell_type": "code",
   "execution_count": 18,
   "id": "treated-latest",
   "metadata": {},
   "outputs": [],
   "source": [
    "TOKENS['term_str'] = TOKENS.token_str.replace('\\W+', '', regex=True)"
   ]
  },
  {
   "cell_type": "code",
   "execution_count": 19,
   "id": "animal-headset",
   "metadata": {
    "scrolled": true
   },
   "outputs": [
    {
     "data": {
      "text/html": [
       "<div>\n",
       "<style scoped>\n",
       "    .dataframe tbody tr th:only-of-type {\n",
       "        vertical-align: middle;\n",
       "    }\n",
       "\n",
       "    .dataframe tbody tr th {\n",
       "        vertical-align: top;\n",
       "    }\n",
       "\n",
       "    .dataframe thead th {\n",
       "        text-align: right;\n",
       "    }\n",
       "</style>\n",
       "<table border=\"1\" class=\"dataframe\">\n",
       "  <thead>\n",
       "    <tr style=\"text-align: right;\">\n",
       "      <th></th>\n",
       "      <th></th>\n",
       "      <th>token_str</th>\n",
       "      <th>term_str</th>\n",
       "    </tr>\n",
       "    <tr>\n",
       "      <th>line_num</th>\n",
       "      <th>token_num</th>\n",
       "      <th></th>\n",
       "      <th></th>\n",
       "    </tr>\n",
       "  </thead>\n",
       "  <tbody>\n",
       "    <tr>\n",
       "      <th>983</th>\n",
       "      <th>1</th>\n",
       "      <td>to</td>\n",
       "      <td>to</td>\n",
       "    </tr>\n",
       "    <tr>\n",
       "      <th>379</th>\n",
       "      <th>5</th>\n",
       "      <td>agrarian</td>\n",
       "      <td>agrarian</td>\n",
       "    </tr>\n",
       "    <tr>\n",
       "      <th>842</th>\n",
       "      <th>3</th>\n",
       "      <td>we</td>\n",
       "      <td>we</td>\n",
       "    </tr>\n",
       "    <tr>\n",
       "      <th>665</th>\n",
       "      <th>3</th>\n",
       "      <td>and</td>\n",
       "      <td>and</td>\n",
       "    </tr>\n",
       "    <tr>\n",
       "      <th>493</th>\n",
       "      <th>4</th>\n",
       "      <td>to</td>\n",
       "      <td>to</td>\n",
       "    </tr>\n",
       "    <tr>\n",
       "      <th>71</th>\n",
       "      <th>0</th>\n",
       "      <td>Readme</td>\n",
       "      <td>Readme</td>\n",
       "    </tr>\n",
       "    <tr>\n",
       "      <th>687</th>\n",
       "      <th>8</th>\n",
       "      <td>have</td>\n",
       "      <td>have</td>\n",
       "    </tr>\n",
       "    <tr>\n",
       "      <th>816</th>\n",
       "      <th>0</th>\n",
       "      <td>paths.</td>\n",
       "      <td>paths</td>\n",
       "    </tr>\n",
       "    <tr>\n",
       "      <th>677</th>\n",
       "      <th>1</th>\n",
       "      <td>the</td>\n",
       "      <td>the</td>\n",
       "    </tr>\n",
       "    <tr>\n",
       "      <th>1037</th>\n",
       "      <th>0</th>\n",
       "      <td>LANIC</td>\n",
       "      <td>LANIC</td>\n",
       "    </tr>\n",
       "  </tbody>\n",
       "</table>\n",
       "</div>"
      ],
      "text/plain": [
       "                   token_str  term_str\n",
       "line_num token_num                    \n",
       "983      1                to        to\n",
       "379      5          agrarian  agrarian\n",
       "842      3                we        we\n",
       "665      3               and       and\n",
       "493      4                to        to\n",
       "71       0            Readme    Readme\n",
       "687      8              have      have\n",
       "816      0            paths.     paths\n",
       "677      1               the       the\n",
       "1037     0             LANIC     LANIC"
      ]
     },
     "execution_count": 19,
     "metadata": {},
     "output_type": "execute_result"
    }
   ],
   "source": [
    "TOKENS.sample(10)"
   ]
  },
  {
   "cell_type": "code",
   "execution_count": 20,
   "id": "commercial-detector",
   "metadata": {},
   "outputs": [
    {
     "data": {
      "text/plain": [
       "the           692\n",
       "of            357\n",
       "and           312\n",
       "to            301\n",
       "that          196\n",
       "             ... \n",
       "Margaritas      1\n",
       "assets          1\n",
       "governing       1\n",
       "regulated       1\n",
       "talking         1\n",
       "Name: term_str, Length: 1957, dtype: int64"
      ]
     },
     "execution_count": 20,
     "metadata": {},
     "output_type": "execute_result"
    }
   ],
   "source": [
    "TOKENS.term_str.value_counts()"
   ]
  }
 ],
 "metadata": {
  "kernelspec": {
   "display_name": "Python 3",
   "language": "python",
   "name": "python3"
  },
  "language_info": {
   "codemirror_mode": {
    "name": "ipython",
    "version": 3
   },
   "file_extension": ".py",
   "mimetype": "text/x-python",
   "name": "python",
   "nbconvert_exporter": "python",
   "pygments_lexer": "ipython3",
   "version": "3.6.4"
  },
  "toc": {
   "base_numbering": 1,
   "nav_menu": {},
   "number_sections": true,
   "sideBar": true,
   "skip_h1_title": false,
   "title_cell": "Table of Contents",
   "title_sidebar": "Contents",
   "toc_cell": false,
   "toc_position": {},
   "toc_section_display": true,
   "toc_window_display": false
  }
 },
 "nbformat": 4,
 "nbformat_minor": 5
}
