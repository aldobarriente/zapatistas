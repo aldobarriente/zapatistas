{
 "cells": [
  {
   "cell_type": "markdown",
   "id": "similar-break",
   "metadata": {},
   "source": [
    "# Text Models"
   ]
  },
  {
   "cell_type": "markdown",
   "id": "burning-accessory",
   "metadata": {},
   "source": [
    "* **Name:** Aldo Barriente\n",
    "* **Course:** DS 5001\n",
    "* **Instructor:** Professor Rafael Alvarado"
   ]
  },
  {
   "cell_type": "markdown",
   "id": "reliable-convention",
   "metadata": {},
   "source": [
    "## Set up"
   ]
  },
  {
   "cell_type": "code",
   "execution_count": 96,
   "id": "helpful-genesis",
   "metadata": {},
   "outputs": [],
   "source": [
    "data_in = './data_in'\n",
    "data_out = './data_out'\n",
    "data_prefix = 'zapatistas'\n",
    "OHCO = ['title_name', 'section_num', 'para_num', 'sent_num', 'token_num']"
   ]
  },
  {
   "cell_type": "code",
   "execution_count": 81,
   "id": "imposed-essay",
   "metadata": {},
   "outputs": [],
   "source": [
    "import pandas as pd\n",
    "import re"
   ]
  },
  {
   "cell_type": "code",
   "execution_count": 64,
   "id": "interpreted-magnitude",
   "metadata": {},
   "outputs": [],
   "source": [
    "lines = ''\n",
    "with open(f'{data_in}/{data_prefix}-ch1.txt', 'r', encoding='utf8') as chap_one:\n",
    "    lines = chap_one.readlines()"
   ]
  },
  {
   "cell_type": "markdown",
   "id": "understood-papua",
   "metadata": {},
   "source": [
    "## Creating dataframe"
   ]
  },
  {
   "cell_type": "code",
   "execution_count": 65,
   "id": "streaming-seeker",
   "metadata": {},
   "outputs": [],
   "source": [
    "text = pd.DataFrame(lines, columns=['line_str'])\n",
    "text.columns = ['line_str']\n",
    "text.index.name = 'line_num'\n",
    "text.line_str = text.line_str.str.strip()"
   ]
  },
  {
   "cell_type": "markdown",
   "id": "fewer-insured",
   "metadata": {},
   "source": [
    "## Extracting title and removing cruft "
   ]
  },
  {
   "cell_type": "code",
   "execution_count": 66,
   "id": "excessive-quarterly",
   "metadata": {},
   "outputs": [],
   "source": [
    "begin = text.line_str.str.match(r\"Chapter \\d+:\")\n",
    "end = text.line_str.str.match(r\"LANIC Home | Zapatistas!\")"
   ]
  },
  {
   "cell_type": "code",
   "execution_count": 67,
   "id": "statutory-transsexual",
   "metadata": {},
   "outputs": [],
   "source": [
    "begin_index = text.loc[begin].index[0]\n",
    "end_index = text.loc[end].index[0]"
   ]
  },
  {
   "cell_type": "code",
   "execution_count": 69,
   "id": "spare-performance",
   "metadata": {},
   "outputs": [],
   "source": [
    "text = text.loc[begin_index - 1 : end_index - 1]"
   ]
  },
  {
   "cell_type": "code",
   "execution_count": 82,
   "id": "optical-continent",
   "metadata": {},
   "outputs": [],
   "source": [
    "title = text.loc[begin_index].line_str"
   ]
  },
  {
   "cell_type": "code",
   "execution_count": 92,
   "id": "cultural-liabilities",
   "metadata": {},
   "outputs": [],
   "source": [
    "title = re.sub(r'Chapter \\d+:\\s', '', title).strip()"
   ]
  },
  {
   "cell_type": "markdown",
   "id": "educational-service",
   "metadata": {},
   "source": [
    "## Chunking and group by title"
   ]
  },
  {
   "cell_type": "code",
   "execution_count": 94,
   "id": "threaded-democrat",
   "metadata": {},
   "outputs": [],
   "source": [
    "text[OHCO[:1]] = title"
   ]
  },
  {
   "cell_type": "code",
   "execution_count": 107,
   "id": "awful-oklahoma",
   "metadata": {},
   "outputs": [
    {
     "data": {
      "text/html": [
       "<div>\n",
       "<style scoped>\n",
       "    .dataframe tbody tr th:only-of-type {\n",
       "        vertical-align: middle;\n",
       "    }\n",
       "\n",
       "    .dataframe tbody tr th {\n",
       "        vertical-align: top;\n",
       "    }\n",
       "\n",
       "    .dataframe thead th {\n",
       "        text-align: right;\n",
       "    }\n",
       "</style>\n",
       "<table border=\"1\" class=\"dataframe\">\n",
       "  <thead>\n",
       "    <tr style=\"text-align: right;\">\n",
       "      <th></th>\n",
       "      <th>line_str</th>\n",
       "      <th>title_name</th>\n",
       "    </tr>\n",
       "    <tr>\n",
       "      <th>line_num</th>\n",
       "      <th></th>\n",
       "      <th></th>\n",
       "    </tr>\n",
       "  </thead>\n",
       "  <tbody>\n",
       "    <tr>\n",
       "      <th>240</th>\n",
       "      <td>against our class enemies.</td>\n",
       "      <td>The Revolt</td>\n",
       "    </tr>\n",
       "    <tr>\n",
       "      <th>241</th>\n",
       "      <td>In this first issue we present our Declaration...</td>\n",
       "      <td>The Revolt</td>\n",
       "    </tr>\n",
       "    <tr>\n",
       "      <th>242</th>\n",
       "      <td>Army, and we publish the orders to be followed...</td>\n",
       "      <td>The Revolt</td>\n",
       "    </tr>\n",
       "    <tr>\n",
       "      <th>243</th>\n",
       "      <td>of the EZLN in our advance through national te...</td>\n",
       "      <td>The Revolt</td>\n",
       "    </tr>\n",
       "    <tr>\n",
       "      <th>244</th>\n",
       "      <td>are the Revolutionary Laws that will be enacte...</td>\n",
       "      <td>The Revolt</td>\n",
       "    </tr>\n",
       "    <tr>\n",
       "      <th>245</th>\n",
       "      <td>in order to guarantee their revolutionary cont...</td>\n",
       "      <td>The Revolt</td>\n",
       "    </tr>\n",
       "    <tr>\n",
       "      <th>246</th>\n",
       "      <td>so we can begin the process of building a new ...</td>\n",
       "      <td>The Revolt</td>\n",
       "    </tr>\n",
       "    <tr>\n",
       "      <th>247</th>\n",
       "      <td>To live for our country or die for freedom.</td>\n",
       "      <td>The Revolt</td>\n",
       "    </tr>\n",
       "    <tr>\n",
       "      <th>248</th>\n",
       "      <td></td>\n",
       "      <td>The Revolt</td>\n",
       "    </tr>\n",
       "    <tr>\n",
       "      <th>249</th>\n",
       "      <td></td>\n",
       "      <td>The Revolt</td>\n",
       "    </tr>\n",
       "    <tr>\n",
       "      <th>250</th>\n",
       "      <td>Revolutionary Laws</td>\n",
       "      <td>The Revolt</td>\n",
       "    </tr>\n",
       "    <tr>\n",
       "      <th>251</th>\n",
       "      <td></td>\n",
       "      <td>The Revolt</td>\n",
       "    </tr>\n",
       "    <tr>\n",
       "      <th>252</th>\n",
       "      <td>Women's Revolutionary Law</td>\n",
       "      <td>The Revolt</td>\n",
       "    </tr>\n",
       "    <tr>\n",
       "      <th>253</th>\n",
       "      <td>In the just fight for the liberation of our pe...</td>\n",
       "      <td>The Revolt</td>\n",
       "    </tr>\n",
       "    <tr>\n",
       "      <th>254</th>\n",
       "      <td>women into the revolutionary struggle, regardl...</td>\n",
       "      <td>The Revolt</td>\n",
       "    </tr>\n",
       "    <tr>\n",
       "      <th>255</th>\n",
       "      <td>color or political affiliation, requiring only...</td>\n",
       "      <td>The Revolt</td>\n",
       "    </tr>\n",
       "    <tr>\n",
       "      <th>256</th>\n",
       "      <td>of the exploited people and that they commit t...</td>\n",
       "      <td>The Revolt</td>\n",
       "    </tr>\n",
       "    <tr>\n",
       "      <th>257</th>\n",
       "      <td>of the revolution. In addition, taking into ac...</td>\n",
       "      <td>The Revolt</td>\n",
       "    </tr>\n",
       "    <tr>\n",
       "      <th>258</th>\n",
       "      <td>woman worker in Mexico, the revolution support...</td>\n",
       "      <td>The Revolt</td>\n",
       "    </tr>\n",
       "    <tr>\n",
       "      <th>259</th>\n",
       "      <td>equality and justice in the following Women's ...</td>\n",
       "      <td>The Revolt</td>\n",
       "    </tr>\n",
       "    <tr>\n",
       "      <th>260</th>\n",
       "      <td>First: Women, regardless of their race, creed,...</td>\n",
       "      <td>The Revolt</td>\n",
       "    </tr>\n",
       "  </tbody>\n",
       "</table>\n",
       "</div>"
      ],
      "text/plain": [
       "                                                   line_str  title_name\n",
       "line_num                                                               \n",
       "240                              against our class enemies.  The Revolt\n",
       "241       In this first issue we present our Declaration...  The Revolt\n",
       "242       Army, and we publish the orders to be followed...  The Revolt\n",
       "243       of the EZLN in our advance through national te...  The Revolt\n",
       "244       are the Revolutionary Laws that will be enacte...  The Revolt\n",
       "245       in order to guarantee their revolutionary cont...  The Revolt\n",
       "246       so we can begin the process of building a new ...  The Revolt\n",
       "247             To live for our country or die for freedom.  The Revolt\n",
       "248                                                          The Revolt\n",
       "249                                                          The Revolt\n",
       "250                                      Revolutionary Laws  The Revolt\n",
       "251                                                          The Revolt\n",
       "252                               Women's Revolutionary Law  The Revolt\n",
       "253       In the just fight for the liberation of our pe...  The Revolt\n",
       "254       women into the revolutionary struggle, regardl...  The Revolt\n",
       "255       color or political affiliation, requiring only...  The Revolt\n",
       "256       of the exploited people and that they commit t...  The Revolt\n",
       "257       of the revolution. In addition, taking into ac...  The Revolt\n",
       "258       woman worker in Mexico, the revolution support...  The Revolt\n",
       "259       equality and justice in the following Women's ...  The Revolt\n",
       "260       First: Women, regardless of their race, creed,...  The Revolt"
      ]
     },
     "execution_count": 107,
     "metadata": {},
     "output_type": "execute_result"
    }
   ],
   "source": [
    "text.loc[240:260]"
   ]
  },
  {
   "cell_type": "markdown",
   "id": "seven-veteran",
   "metadata": {},
   "source": [
    "## Chunking by section"
   ]
  },
  {
   "cell_type": "code",
   "execution_count": 123,
   "id": "productive-combination",
   "metadata": {},
   "outputs": [],
   "source": [
    "section_lines = text.line_str.str.match(r\"^$\", case=False)"
   ]
  },
  {
   "cell_type": "code",
   "execution_count": 131,
   "id": "pleasant-bracelet",
   "metadata": {},
   "outputs": [
    {
     "name": "stdout",
     "output_type": "stream",
     "text": [
      "line_num\n",
      "99       True\n",
      "100     False\n",
      "101      True\n",
      "102     False\n",
      "103     False\n",
      "        ...  \n",
      "1032     True\n",
      "1033     True\n",
      "1034     True\n",
      "1035     True\n",
      "1036     True\n",
      "Name: line_str, Length: 938, dtype: bool\n"
     ]
    }
   ],
   "source": [
    "print(section_lines)"
   ]
  },
  {
   "cell_type": "code",
   "execution_count": 132,
   "id": "neutral-stick",
   "metadata": {},
   "outputs": [
    {
     "data": {
      "text/plain": [
       "24"
      ]
     },
     "execution_count": 132,
     "metadata": {},
     "output_type": "execute_result"
    }
   ],
   "source": [
    "text.loc[section_lines].shape[0]"
   ]
  }
 ],
 "metadata": {
  "kernelspec": {
   "display_name": "Python 3",
   "language": "python",
   "name": "python3"
  },
  "language_info": {
   "codemirror_mode": {
    "name": "ipython",
    "version": 3
   },
   "file_extension": ".py",
   "mimetype": "text/x-python",
   "name": "python",
   "nbconvert_exporter": "python",
   "pygments_lexer": "ipython3",
   "version": "3.6.4"
  },
  "toc": {
   "base_numbering": 1,
   "nav_menu": {},
   "number_sections": true,
   "sideBar": true,
   "skip_h1_title": false,
   "title_cell": "Table of Contents",
   "title_sidebar": "Contents",
   "toc_cell": false,
   "toc_position": {},
   "toc_section_display": true,
   "toc_window_display": false
  }
 },
 "nbformat": 4,
 "nbformat_minor": 5
}
