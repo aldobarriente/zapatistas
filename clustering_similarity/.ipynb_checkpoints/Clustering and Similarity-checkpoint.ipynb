{
 "cells": [
  {
   "cell_type": "markdown",
   "id": "biblical-chick",
   "metadata": {},
   "source": [
    "# Clustering and Similarity"
   ]
  },
  {
   "cell_type": "markdown",
   "id": "referenced-shelf",
   "metadata": {},
   "source": [
    "* **Name:** Aldo Barriente\n",
    "* **Email:** aib9jp@virginia.edu\n",
    "* **Course:** DS 5001\n",
    "* **Date:** 20 April 2021"
   ]
  },
  {
   "cell_type": "markdown",
   "id": "local-cruise",
   "metadata": {},
   "source": [
    "## Set up"
   ]
  },
  {
   "cell_type": "code",
   "execution_count": 1,
   "id": "similar-cisco",
   "metadata": {},
   "outputs": [],
   "source": [
    "n_terms = 4000"
   ]
  },
  {
   "cell_type": "code",
   "execution_count": 2,
   "id": "damaged-distributor",
   "metadata": {},
   "outputs": [],
   "source": [
    "data_in = './data_in/'\n",
    "data_out = './data_out/'\n",
    "data_prefix = 'zapatistas'"
   ]
  },
  {
   "cell_type": "code",
   "execution_count": 3,
   "id": "ambient-whole",
   "metadata": {},
   "outputs": [],
   "source": [
    "OHCO = ['text_id', 'section_num', 'para_num', 'sent_num', 'token_num']\n",
    "PARA = OHCO[:3]\n",
    "SECTION = OHCO[:2]\n",
    "TEXT = OHCO[:1]"
   ]
  },
  {
   "cell_type": "code",
   "execution_count": 4,
   "id": "helpful-yugoslavia",
   "metadata": {},
   "outputs": [],
   "source": [
    "import pandas as pd\n",
    "import numpy as np\n",
    "import re \n",
    "from numpy.linalg import norm\n",
    "from scipy.spatial.distance import pdist, squareform"
   ]
  },
  {
   "cell_type": "markdown",
   "id": "electoral-boulder",
   "metadata": {},
   "source": [
    "## Importing tables"
   ]
  },
  {
   "cell_type": "code",
   "execution_count": 5,
   "id": "timely-cricket",
   "metadata": {},
   "outputs": [],
   "source": [
    "LIB = pd.read_csv(f'{data_in}/{data_prefix}-LIB.csv')\n",
    "TOKEN = pd.read_csv(f'{data_in}/{data_prefix}-TOKEN.csv').set_index(OHCO)\n",
    "VOCAB = pd.read_csv(f'{data_in}/{data_prefix}-VOCAB.csv').dropna().set_index('term_str')"
   ]
  },
  {
   "cell_type": "code",
   "execution_count": 6,
   "id": "adaptive-hours",
   "metadata": {},
   "outputs": [],
   "source": [
    "LIB = LIB.drop(columns=['Unnamed: 0']).set_index('text_id')"
   ]
  },
  {
   "cell_type": "code",
   "execution_count": 7,
   "id": "outer-brown",
   "metadata": {},
   "outputs": [],
   "source": [
    "LIB = LIB.sort_index()"
   ]
  },
  {
   "cell_type": "code",
   "execution_count": 8,
   "id": "numerical-blank",
   "metadata": {},
   "outputs": [
    {
     "data": {
      "text/html": [
       "<div>\n",
       "<style scoped>\n",
       "    .dataframe tbody tr th:only-of-type {\n",
       "        vertical-align: middle;\n",
       "    }\n",
       "\n",
       "    .dataframe tbody tr th {\n",
       "        vertical-align: top;\n",
       "    }\n",
       "\n",
       "    .dataframe thead th {\n",
       "        text-align: right;\n",
       "    }\n",
       "</style>\n",
       "<table border=\"1\" class=\"dataframe\">\n",
       "  <thead>\n",
       "    <tr style=\"text-align: right;\">\n",
       "      <th></th>\n",
       "      <th>text_title</th>\n",
       "      <th>text_file</th>\n",
       "    </tr>\n",
       "    <tr>\n",
       "      <th>text_id</th>\n",
       "      <th></th>\n",
       "      <th></th>\n",
       "    </tr>\n",
       "  </thead>\n",
       "  <tbody>\n",
       "    <tr>\n",
       "      <th>1</th>\n",
       "      <td>The Revolt</td>\n",
       "      <td>./data_in\\zapatistas-ch1.txt</td>\n",
       "    </tr>\n",
       "    <tr>\n",
       "      <th>2</th>\n",
       "      <td>The First Days</td>\n",
       "      <td>./data_in\\zapatistas-ch2.txt</td>\n",
       "    </tr>\n",
       "    <tr>\n",
       "      <th>3</th>\n",
       "      <td>The Cease - Fire</td>\n",
       "      <td>./data_in\\zapatistas-ch3.txt</td>\n",
       "    </tr>\n",
       "    <tr>\n",
       "      <th>4</th>\n",
       "      <td>Solidarity</td>\n",
       "      <td>./data_in\\zapatistas-ch4.txt</td>\n",
       "    </tr>\n",
       "    <tr>\n",
       "      <th>5</th>\n",
       "      <td>Broadening the Struggle</td>\n",
       "      <td>./data_in\\zapatistas-ch5.txt</td>\n",
       "    </tr>\n",
       "    <tr>\n",
       "      <th>6</th>\n",
       "      <td>Building Ties</td>\n",
       "      <td>./data_in\\zapatistas-ch6.txt</td>\n",
       "    </tr>\n",
       "    <tr>\n",
       "      <th>7</th>\n",
       "      <td>Before the Dialogue</td>\n",
       "      <td>./data_in\\zapatistas-ch7.txt</td>\n",
       "    </tr>\n",
       "    <tr>\n",
       "      <th>8</th>\n",
       "      <td>The Dialogue</td>\n",
       "      <td>./data_in\\zapatistas-ch8.txt</td>\n",
       "    </tr>\n",
       "    <tr>\n",
       "      <th>9</th>\n",
       "      <td>Concluding the Dialogue</td>\n",
       "      <td>./data_in\\zapatistas-ch9.txt</td>\n",
       "    </tr>\n",
       "    <tr>\n",
       "      <th>10</th>\n",
       "      <td>Returning to the Communities</td>\n",
       "      <td>./data_in\\zapatistas-ch10.txt</td>\n",
       "    </tr>\n",
       "    <tr>\n",
       "      <th>11</th>\n",
       "      <td>The Consultations</td>\n",
       "      <td>./data_in\\zapatistas-ch11.txt</td>\n",
       "    </tr>\n",
       "    <tr>\n",
       "      <th>12</th>\n",
       "      <td>Rejecting the Government's Offer</td>\n",
       "      <td>./data_in\\zapatistas-ch12.txt</td>\n",
       "    </tr>\n",
       "  </tbody>\n",
       "</table>\n",
       "</div>"
      ],
      "text/plain": [
       "                               text_title                      text_file\n",
       "text_id                                                                 \n",
       "1                              The Revolt   ./data_in\\zapatistas-ch1.txt\n",
       "2                          The First Days   ./data_in\\zapatistas-ch2.txt\n",
       "3                        The Cease - Fire   ./data_in\\zapatistas-ch3.txt\n",
       "4                              Solidarity   ./data_in\\zapatistas-ch4.txt\n",
       "5                 Broadening the Struggle   ./data_in\\zapatistas-ch5.txt\n",
       "6                           Building Ties   ./data_in\\zapatistas-ch6.txt\n",
       "7                     Before the Dialogue   ./data_in\\zapatistas-ch7.txt\n",
       "8                            The Dialogue   ./data_in\\zapatistas-ch8.txt\n",
       "9                 Concluding the Dialogue   ./data_in\\zapatistas-ch9.txt\n",
       "10           Returning to the Communities  ./data_in\\zapatistas-ch10.txt\n",
       "11                      The Consultations  ./data_in\\zapatistas-ch11.txt\n",
       "12       Rejecting the Government's Offer  ./data_in\\zapatistas-ch12.txt"
      ]
     },
     "execution_count": 8,
     "metadata": {},
     "output_type": "execute_result"
    }
   ],
   "source": [
    "LIB"
   ]
  },
  {
   "cell_type": "markdown",
   "id": "vocational-lawyer",
   "metadata": {},
   "source": [
    "## `TFIDF` Matrix"
   ]
  },
  {
   "cell_type": "markdown",
   "id": "white-newton",
   "metadata": {},
   "source": [
    "### Function"
   ]
  },
  {
   "cell_type": "code",
   "execution_count": 9,
   "id": "minus-concern",
   "metadata": {},
   "outputs": [],
   "source": [
    "def get_tfidf(bag, tf_method='sum', item_type='term_str'):\n",
    "    \n",
    "    global TOKEN, VOCAB\n",
    "    \n",
    "    # Create bag of items (terms or stems)\n",
    "    BOW = TOKEN.groupby(bag+[item_type])[item_type].count()\\\n",
    "        .to_frame().rename(columns={item_type:'n'})\n",
    "\n",
    "    # Add binary count column\n",
    "    BOW['c'] = BOW.n.astype('bool').astype('int')\n",
    "\n",
    "    # Compute TF\n",
    "    D = BOW.groupby(bag).n\n",
    "    if tf_method == 'sum':\n",
    "        BOW['tf'] = D.apply(lambda x: x / x.sum())\n",
    "    elif tf_method == 'max':\n",
    "        BOW['tf'] = D.apply(lambda x: .4 + .6 * (x / x.max())) # See Manning, et al. for choice of α\n",
    "    elif tf_method == 'bool':\n",
    "        BOW['tf'] = D.apply(lambda x: x.astype('bool') / x.astype('bool').sum())\n",
    "    elif tf_method == 'raw':\n",
    "        BOW['tf'] = BOW['n']\n",
    "    elif tf_method == 'bool_raw':\n",
    "        BOW['tf'] = BOW['c']\n",
    "        \n",
    "    # Compute DF\n",
    "    VOCAB['df'] = BOW.groupby('term_str').n.count()\n",
    "    N_docs = len(D.groups)\n",
    "    VOCAB['idf'] = np.log2(N_docs/VOCAB.df)\n",
    "    VOCAB['dfidf'] = VOCAB.df * VOCAB.idf\n",
    "    \n",
    "    # Compute TFIDF (local term significance)\n",
    "    BOW['tfidf'] = BOW.apply(lambda x: x.tf * VOCAB.loc[x.name[2]].idf, 1) #BOW.tf * VOCAB.idf\n",
    "    \n",
    "    # Compute aggregate TFIDF (global term significance)\n",
    "    VOCAB['tfidf_sum'] = BOW.groupby('term_str').tfidf.sum()\n",
    "        \n",
    "    return BOW"
   ]
  },
  {
   "cell_type": "code",
   "execution_count": 10,
   "id": "taken-marriage",
   "metadata": {},
   "outputs": [],
   "source": [
    "BOW = get_tfidf(SECTION, tf_method='max')"
   ]
  },
  {
   "cell_type": "markdown",
   "id": "timely-pitch",
   "metadata": {},
   "source": [
    "### Collapse by text"
   ]
  },
  {
   "cell_type": "code",
   "execution_count": 11,
   "id": "current-london",
   "metadata": {},
   "outputs": [],
   "source": [
    "TFIDF = BOW.tfidf.unstack(fill_value=0)"
   ]
  },
  {
   "cell_type": "code",
   "execution_count": 12,
   "id": "cooked-ancient",
   "metadata": {},
   "outputs": [],
   "source": [
    "TFIDF_text = TFIDF.groupby(TEXT).sum()"
   ]
  },
  {
   "cell_type": "code",
   "execution_count": 13,
   "id": "ready-covering",
   "metadata": {
    "scrolled": true
   },
   "outputs": [
    {
     "data": {
      "text/html": [
       "<div>\n",
       "<style scoped>\n",
       "    .dataframe tbody tr th:only-of-type {\n",
       "        vertical-align: middle;\n",
       "    }\n",
       "\n",
       "    .dataframe tbody tr th {\n",
       "        vertical-align: top;\n",
       "    }\n",
       "\n",
       "    .dataframe thead th {\n",
       "        text-align: right;\n",
       "    }\n",
       "</style>\n",
       "<table border=\"1\" class=\"dataframe\">\n",
       "  <thead>\n",
       "    <tr style=\"text-align: right;\">\n",
       "      <th>term_str</th>\n",
       "      <th>000001</th>\n",
       "      <th>001</th>\n",
       "      <th>002</th>\n",
       "      <th>029</th>\n",
       "      <th>036</th>\n",
       "      <th>038</th>\n",
       "      <th>044</th>\n",
       "      <th>055</th>\n",
       "      <th>062</th>\n",
       "      <th>1</th>\n",
       "      <th>...</th>\n",
       "      <th>zedillo</th>\n",
       "      <th>zero</th>\n",
       "      <th>zipper</th>\n",
       "      <th>zone</th>\n",
       "      <th>zones</th>\n",
       "      <th>zonethis</th>\n",
       "      <th>zoque</th>\n",
       "      <th>zócalo</th>\n",
       "      <th>zócalos</th>\n",
       "      <th>álvaro</th>\n",
       "    </tr>\n",
       "    <tr>\n",
       "      <th>text_id</th>\n",
       "      <th></th>\n",
       "      <th></th>\n",
       "      <th></th>\n",
       "      <th></th>\n",
       "      <th></th>\n",
       "      <th></th>\n",
       "      <th></th>\n",
       "      <th></th>\n",
       "      <th></th>\n",
       "      <th></th>\n",
       "      <th></th>\n",
       "      <th></th>\n",
       "      <th></th>\n",
       "      <th></th>\n",
       "      <th></th>\n",
       "      <th></th>\n",
       "      <th></th>\n",
       "      <th></th>\n",
       "      <th></th>\n",
       "      <th></th>\n",
       "      <th></th>\n",
       "    </tr>\n",
       "  </thead>\n",
       "  <tbody>\n",
       "    <tr>\n",
       "      <th>1</th>\n",
       "      <td>0.000000</td>\n",
       "      <td>0.000000</td>\n",
       "      <td>0.000000</td>\n",
       "      <td>0.000000</td>\n",
       "      <td>0.000000</td>\n",
       "      <td>0.000000</td>\n",
       "      <td>0.000000</td>\n",
       "      <td>0.000000</td>\n",
       "      <td>0.000000</td>\n",
       "      <td>1.548415</td>\n",
       "      <td>...</td>\n",
       "      <td>0.000000</td>\n",
       "      <td>0.000000</td>\n",
       "      <td>0.000000</td>\n",
       "      <td>2.056213</td>\n",
       "      <td>7.565802</td>\n",
       "      <td>0.000000</td>\n",
       "      <td>0.00000</td>\n",
       "      <td>0.000000</td>\n",
       "      <td>0.000000</td>\n",
       "      <td>0.000000</td>\n",
       "    </tr>\n",
       "    <tr>\n",
       "      <th>2</th>\n",
       "      <td>0.000000</td>\n",
       "      <td>0.000000</td>\n",
       "      <td>0.000000</td>\n",
       "      <td>0.000000</td>\n",
       "      <td>0.000000</td>\n",
       "      <td>0.000000</td>\n",
       "      <td>0.000000</td>\n",
       "      <td>0.000000</td>\n",
       "      <td>0.000000</td>\n",
       "      <td>1.576708</td>\n",
       "      <td>...</td>\n",
       "      <td>0.000000</td>\n",
       "      <td>0.000000</td>\n",
       "      <td>0.000000</td>\n",
       "      <td>3.764415</td>\n",
       "      <td>1.219363</td>\n",
       "      <td>0.000000</td>\n",
       "      <td>0.00000</td>\n",
       "      <td>0.000000</td>\n",
       "      <td>0.000000</td>\n",
       "      <td>0.000000</td>\n",
       "    </tr>\n",
       "    <tr>\n",
       "      <th>3</th>\n",
       "      <td>0.000000</td>\n",
       "      <td>0.000000</td>\n",
       "      <td>0.000000</td>\n",
       "      <td>0.000000</td>\n",
       "      <td>0.000000</td>\n",
       "      <td>0.000000</td>\n",
       "      <td>0.000000</td>\n",
       "      <td>0.000000</td>\n",
       "      <td>0.000000</td>\n",
       "      <td>2.348282</td>\n",
       "      <td>...</td>\n",
       "      <td>0.000000</td>\n",
       "      <td>0.000000</td>\n",
       "      <td>0.000000</td>\n",
       "      <td>2.818459</td>\n",
       "      <td>1.233375</td>\n",
       "      <td>0.000000</td>\n",
       "      <td>4.71353</td>\n",
       "      <td>0.000000</td>\n",
       "      <td>0.000000</td>\n",
       "      <td>2.763348</td>\n",
       "    </tr>\n",
       "    <tr>\n",
       "      <th>4</th>\n",
       "      <td>0.000000</td>\n",
       "      <td>0.000000</td>\n",
       "      <td>0.000000</td>\n",
       "      <td>0.000000</td>\n",
       "      <td>0.000000</td>\n",
       "      <td>0.000000</td>\n",
       "      <td>0.000000</td>\n",
       "      <td>0.000000</td>\n",
       "      <td>0.000000</td>\n",
       "      <td>1.596487</td>\n",
       "      <td>...</td>\n",
       "      <td>0.000000</td>\n",
       "      <td>0.000000</td>\n",
       "      <td>0.000000</td>\n",
       "      <td>2.836475</td>\n",
       "      <td>1.226650</td>\n",
       "      <td>0.000000</td>\n",
       "      <td>0.00000</td>\n",
       "      <td>0.000000</td>\n",
       "      <td>0.000000</td>\n",
       "      <td>0.000000</td>\n",
       "    </tr>\n",
       "    <tr>\n",
       "      <th>5</th>\n",
       "      <td>0.000000</td>\n",
       "      <td>0.000000</td>\n",
       "      <td>0.000000</td>\n",
       "      <td>0.000000</td>\n",
       "      <td>0.000000</td>\n",
       "      <td>0.000000</td>\n",
       "      <td>0.000000</td>\n",
       "      <td>0.000000</td>\n",
       "      <td>0.000000</td>\n",
       "      <td>3.112853</td>\n",
       "      <td>...</td>\n",
       "      <td>0.000000</td>\n",
       "      <td>2.370145</td>\n",
       "      <td>0.000000</td>\n",
       "      <td>1.869206</td>\n",
       "      <td>1.212191</td>\n",
       "      <td>0.000000</td>\n",
       "      <td>0.00000</td>\n",
       "      <td>0.000000</td>\n",
       "      <td>0.000000</td>\n",
       "      <td>0.000000</td>\n",
       "    </tr>\n",
       "    <tr>\n",
       "      <th>6</th>\n",
       "      <td>0.000000</td>\n",
       "      <td>0.000000</td>\n",
       "      <td>0.000000</td>\n",
       "      <td>0.000000</td>\n",
       "      <td>0.000000</td>\n",
       "      <td>0.000000</td>\n",
       "      <td>0.000000</td>\n",
       "      <td>0.000000</td>\n",
       "      <td>0.000000</td>\n",
       "      <td>1.563312</td>\n",
       "      <td>...</td>\n",
       "      <td>0.000000</td>\n",
       "      <td>0.000000</td>\n",
       "      <td>0.000000</td>\n",
       "      <td>0.000000</td>\n",
       "      <td>0.000000</td>\n",
       "      <td>0.000000</td>\n",
       "      <td>0.00000</td>\n",
       "      <td>2.035187</td>\n",
       "      <td>2.803851</td>\n",
       "      <td>0.000000</td>\n",
       "    </tr>\n",
       "    <tr>\n",
       "      <th>7</th>\n",
       "      <td>0.000000</td>\n",
       "      <td>0.000000</td>\n",
       "      <td>0.000000</td>\n",
       "      <td>0.000000</td>\n",
       "      <td>0.000000</td>\n",
       "      <td>0.000000</td>\n",
       "      <td>0.000000</td>\n",
       "      <td>0.000000</td>\n",
       "      <td>0.000000</td>\n",
       "      <td>0.774922</td>\n",
       "      <td>...</td>\n",
       "      <td>0.000000</td>\n",
       "      <td>2.335377</td>\n",
       "      <td>0.000000</td>\n",
       "      <td>1.931619</td>\n",
       "      <td>0.000000</td>\n",
       "      <td>0.000000</td>\n",
       "      <td>0.00000</td>\n",
       "      <td>0.000000</td>\n",
       "      <td>0.000000</td>\n",
       "      <td>0.000000</td>\n",
       "    </tr>\n",
       "    <tr>\n",
       "      <th>8</th>\n",
       "      <td>0.000000</td>\n",
       "      <td>0.000000</td>\n",
       "      <td>0.000000</td>\n",
       "      <td>0.000000</td>\n",
       "      <td>0.000000</td>\n",
       "      <td>0.000000</td>\n",
       "      <td>0.000000</td>\n",
       "      <td>0.000000</td>\n",
       "      <td>0.000000</td>\n",
       "      <td>3.942031</td>\n",
       "      <td>...</td>\n",
       "      <td>0.000000</td>\n",
       "      <td>0.000000</td>\n",
       "      <td>0.000000</td>\n",
       "      <td>2.816868</td>\n",
       "      <td>1.214644</td>\n",
       "      <td>0.000000</td>\n",
       "      <td>0.00000</td>\n",
       "      <td>0.000000</td>\n",
       "      <td>0.000000</td>\n",
       "      <td>0.000000</td>\n",
       "    </tr>\n",
       "    <tr>\n",
       "      <th>9</th>\n",
       "      <td>0.000000</td>\n",
       "      <td>0.000000</td>\n",
       "      <td>0.000000</td>\n",
       "      <td>0.000000</td>\n",
       "      <td>0.000000</td>\n",
       "      <td>0.000000</td>\n",
       "      <td>0.000000</td>\n",
       "      <td>0.000000</td>\n",
       "      <td>0.000000</td>\n",
       "      <td>2.361958</td>\n",
       "      <td>...</td>\n",
       "      <td>0.000000</td>\n",
       "      <td>0.000000</td>\n",
       "      <td>0.000000</td>\n",
       "      <td>0.928596</td>\n",
       "      <td>1.211656</td>\n",
       "      <td>0.000000</td>\n",
       "      <td>0.00000</td>\n",
       "      <td>0.000000</td>\n",
       "      <td>0.000000</td>\n",
       "      <td>0.000000</td>\n",
       "    </tr>\n",
       "    <tr>\n",
       "      <th>10</th>\n",
       "      <td>0.000000</td>\n",
       "      <td>0.000000</td>\n",
       "      <td>0.000000</td>\n",
       "      <td>0.000000</td>\n",
       "      <td>0.000000</td>\n",
       "      <td>0.000000</td>\n",
       "      <td>0.000000</td>\n",
       "      <td>0.000000</td>\n",
       "      <td>0.000000</td>\n",
       "      <td>0.786574</td>\n",
       "      <td>...</td>\n",
       "      <td>2.117183</td>\n",
       "      <td>0.000000</td>\n",
       "      <td>0.000000</td>\n",
       "      <td>0.000000</td>\n",
       "      <td>1.218421</td>\n",
       "      <td>0.000000</td>\n",
       "      <td>0.00000</td>\n",
       "      <td>1.960206</td>\n",
       "      <td>0.000000</td>\n",
       "      <td>0.000000</td>\n",
       "    </tr>\n",
       "    <tr>\n",
       "      <th>11</th>\n",
       "      <td>0.000000</td>\n",
       "      <td>0.000000</td>\n",
       "      <td>0.000000</td>\n",
       "      <td>0.000000</td>\n",
       "      <td>0.000000</td>\n",
       "      <td>0.000000</td>\n",
       "      <td>0.000000</td>\n",
       "      <td>0.000000</td>\n",
       "      <td>0.000000</td>\n",
       "      <td>1.571163</td>\n",
       "      <td>...</td>\n",
       "      <td>0.000000</td>\n",
       "      <td>0.000000</td>\n",
       "      <td>0.000000</td>\n",
       "      <td>1.875962</td>\n",
       "      <td>1.217262</td>\n",
       "      <td>2.755535</td>\n",
       "      <td>0.00000</td>\n",
       "      <td>3.901528</td>\n",
       "      <td>0.000000</td>\n",
       "      <td>0.000000</td>\n",
       "    </tr>\n",
       "    <tr>\n",
       "      <th>12</th>\n",
       "      <td>2.777374</td>\n",
       "      <td>2.777374</td>\n",
       "      <td>2.777374</td>\n",
       "      <td>2.777374</td>\n",
       "      <td>2.777374</td>\n",
       "      <td>2.777374</td>\n",
       "      <td>2.777374</td>\n",
       "      <td>2.777374</td>\n",
       "      <td>2.777374</td>\n",
       "      <td>2.331619</td>\n",
       "      <td>...</td>\n",
       "      <td>4.247756</td>\n",
       "      <td>0.000000</td>\n",
       "      <td>2.777374</td>\n",
       "      <td>0.923415</td>\n",
       "      <td>0.000000</td>\n",
       "      <td>0.000000</td>\n",
       "      <td>0.00000</td>\n",
       "      <td>0.000000</td>\n",
       "      <td>0.000000</td>\n",
       "      <td>0.000000</td>\n",
       "    </tr>\n",
       "  </tbody>\n",
       "</table>\n",
       "<p>12 rows × 8140 columns</p>\n",
       "</div>"
      ],
      "text/plain": [
       "term_str    000001       001       002       029       036       038  \\\n",
       "text_id                                                                \n",
       "1         0.000000  0.000000  0.000000  0.000000  0.000000  0.000000   \n",
       "2         0.000000  0.000000  0.000000  0.000000  0.000000  0.000000   \n",
       "3         0.000000  0.000000  0.000000  0.000000  0.000000  0.000000   \n",
       "4         0.000000  0.000000  0.000000  0.000000  0.000000  0.000000   \n",
       "5         0.000000  0.000000  0.000000  0.000000  0.000000  0.000000   \n",
       "6         0.000000  0.000000  0.000000  0.000000  0.000000  0.000000   \n",
       "7         0.000000  0.000000  0.000000  0.000000  0.000000  0.000000   \n",
       "8         0.000000  0.000000  0.000000  0.000000  0.000000  0.000000   \n",
       "9         0.000000  0.000000  0.000000  0.000000  0.000000  0.000000   \n",
       "10        0.000000  0.000000  0.000000  0.000000  0.000000  0.000000   \n",
       "11        0.000000  0.000000  0.000000  0.000000  0.000000  0.000000   \n",
       "12        2.777374  2.777374  2.777374  2.777374  2.777374  2.777374   \n",
       "\n",
       "term_str       044       055       062         1  ...   zedillo      zero  \\\n",
       "text_id                                           ...                       \n",
       "1         0.000000  0.000000  0.000000  1.548415  ...  0.000000  0.000000   \n",
       "2         0.000000  0.000000  0.000000  1.576708  ...  0.000000  0.000000   \n",
       "3         0.000000  0.000000  0.000000  2.348282  ...  0.000000  0.000000   \n",
       "4         0.000000  0.000000  0.000000  1.596487  ...  0.000000  0.000000   \n",
       "5         0.000000  0.000000  0.000000  3.112853  ...  0.000000  2.370145   \n",
       "6         0.000000  0.000000  0.000000  1.563312  ...  0.000000  0.000000   \n",
       "7         0.000000  0.000000  0.000000  0.774922  ...  0.000000  2.335377   \n",
       "8         0.000000  0.000000  0.000000  3.942031  ...  0.000000  0.000000   \n",
       "9         0.000000  0.000000  0.000000  2.361958  ...  0.000000  0.000000   \n",
       "10        0.000000  0.000000  0.000000  0.786574  ...  2.117183  0.000000   \n",
       "11        0.000000  0.000000  0.000000  1.571163  ...  0.000000  0.000000   \n",
       "12        2.777374  2.777374  2.777374  2.331619  ...  4.247756  0.000000   \n",
       "\n",
       "term_str    zipper      zone     zones  zonethis    zoque    zócalo   zócalos  \\\n",
       "text_id                                                                         \n",
       "1         0.000000  2.056213  7.565802  0.000000  0.00000  0.000000  0.000000   \n",
       "2         0.000000  3.764415  1.219363  0.000000  0.00000  0.000000  0.000000   \n",
       "3         0.000000  2.818459  1.233375  0.000000  4.71353  0.000000  0.000000   \n",
       "4         0.000000  2.836475  1.226650  0.000000  0.00000  0.000000  0.000000   \n",
       "5         0.000000  1.869206  1.212191  0.000000  0.00000  0.000000  0.000000   \n",
       "6         0.000000  0.000000  0.000000  0.000000  0.00000  2.035187  2.803851   \n",
       "7         0.000000  1.931619  0.000000  0.000000  0.00000  0.000000  0.000000   \n",
       "8         0.000000  2.816868  1.214644  0.000000  0.00000  0.000000  0.000000   \n",
       "9         0.000000  0.928596  1.211656  0.000000  0.00000  0.000000  0.000000   \n",
       "10        0.000000  0.000000  1.218421  0.000000  0.00000  1.960206  0.000000   \n",
       "11        0.000000  1.875962  1.217262  2.755535  0.00000  3.901528  0.000000   \n",
       "12        2.777374  0.923415  0.000000  0.000000  0.00000  0.000000  0.000000   \n",
       "\n",
       "term_str    álvaro  \n",
       "text_id             \n",
       "1         0.000000  \n",
       "2         0.000000  \n",
       "3         2.763348  \n",
       "4         0.000000  \n",
       "5         0.000000  \n",
       "6         0.000000  \n",
       "7         0.000000  \n",
       "8         0.000000  \n",
       "9         0.000000  \n",
       "10        0.000000  \n",
       "11        0.000000  \n",
       "12        0.000000  \n",
       "\n",
       "[12 rows x 8140 columns]"
      ]
     },
     "execution_count": 13,
     "metadata": {},
     "output_type": "execute_result"
    }
   ],
   "source": [
    "TFIDF_text"
   ]
  },
  {
   "cell_type": "markdown",
   "id": "lesser-penalty",
   "metadata": {},
   "source": [
    "### Reducing features"
   ]
  },
  {
   "cell_type": "code",
   "execution_count": 14,
   "id": "pediatric-texture",
   "metadata": {},
   "outputs": [],
   "source": [
    "VOCAB_SHORT = VOCAB.sort_values('tfidf_sum', ascending=False).head(n_terms).index.tolist()"
   ]
  },
  {
   "cell_type": "code",
   "execution_count": 15,
   "id": "muslim-enlargement",
   "metadata": {},
   "outputs": [],
   "source": [
    "TFIDF_text_short = TFIDF_text[VOCAB_SHORT]"
   ]
  },
  {
   "cell_type": "code",
   "execution_count": 16,
   "id": "induced-palestine",
   "metadata": {},
   "outputs": [],
   "source": [
    "LIB['tfidf_sum'] = TFIDF_text_short.sum(1).sort_index()\n",
    "LIB['tfidf_mean'] = TFIDF_text_short.mean(1).sort_index()"
   ]
  },
  {
   "cell_type": "code",
   "execution_count": 17,
   "id": "hungry-evening",
   "metadata": {
    "scrolled": true
   },
   "outputs": [
    {
     "data": {
      "text/plain": [
       "<AxesSubplot:ylabel='text_title'>"
      ]
     },
     "execution_count": 17,
     "metadata": {},
     "output_type": "execute_result"
    },
    {
     "data": {
      "image/png": "[encoded data removed]",
      "text/plain": [
       "<Figure size 432x288 with 1 Axes>"
      ]
     },
     "metadata": {
      "needs_background": "light"
     },
     "output_type": "display_data"
    }
   ],
   "source": [
    "LIB.sort_values('tfidf_sum', ascending=False).reset_index().set_index('text_title').tfidf_mean.plot.barh()"
   ]
  },
  {
   "cell_type": "markdown",
   "id": "economic-dinner",
   "metadata": {},
   "source": [
    "### DOC Pair Table"
   ]
  },
  {
   "cell_type": "code",
   "execution_count": 18,
   "id": "trained-austin",
   "metadata": {},
   "outputs": [],
   "source": [
    "PAIRS = pd.DataFrame(index=pd.MultiIndex.from_product([LIB.index.tolist(), LIB.index.tolist()])).reset_index()\n",
    "PAIRS = PAIRS[PAIRS.level_0 < PAIRS.level_1].set_index(['level_0','level_1'])\n",
    "PAIRS.index.names = ['doc_a', 'doc_b']"
   ]
  },
  {
   "cell_type": "markdown",
   "id": "dress-surname",
   "metadata": {},
   "source": [
    "### Normalized Tables"
   ]
  },
  {
   "cell_type": "code",
   "execution_count": 19,
   "id": "proved-cooler",
   "metadata": {},
   "outputs": [],
   "source": [
    "df = TFIDF_text_short"
   ]
  },
  {
   "cell_type": "code",
   "execution_count": 20,
   "id": "cooked-domestic",
   "metadata": {},
   "outputs": [],
   "source": [
    "L0 = df.astype('bool').astype('int') # Boolean\n",
    "L1 = df.apply(lambda x: x / x.sum(), 1)\n",
    "L2 = df.apply(lambda x: x / norm(x), 1)"
   ]
  },
  {
   "cell_type": "markdown",
   "id": "lightweight-click",
   "metadata": {},
   "source": [
    "## Computing Distances"
   ]
  },
  {
   "cell_type": "code",
   "execution_count": 21,
   "id": "adverse-latter",
   "metadata": {},
   "outputs": [],
   "source": [
    "PAIRS['cityblock'] = pdist(df, 'cityblock')\n",
    "PAIRS['euclidean'] = pdist(df, 'euclidean')\n",
    "PAIRS['cosine'] = pdist(df, 'cosine')\n",
    "PAIRS['jaccard'] = pdist(L0, 'jaccard')\n",
    "PAIRS['dice'] = pdist(L0, 'dice')\n",
    "PAIRS['js'] = pdist(L1, 'jensenshannon')                               \n",
    "PAIRS['euclidean2'] = pdist(L2, 'euclidean') # Should be the same as cosine (colinear)"
   ]
  },
  {
   "cell_type": "markdown",
   "id": "coordinate-symposium",
   "metadata": {},
   "source": [
    "## Dendrograms"
   ]
  },
  {
   "cell_type": "code",
   "execution_count": 22,
   "id": "third-gross",
   "metadata": {},
   "outputs": [],
   "source": [
    "import scipy.cluster.hierarchy as sch\n",
    "import matplotlib.pyplot as plt"
   ]
  },
  {
   "cell_type": "code",
   "execution_count": 23,
   "id": "average-andrews",
   "metadata": {},
   "outputs": [
    {
     "data": {
      "text/html": [
       "<div>\n",
       "<style scoped>\n",
       "    .dataframe tbody tr th:only-of-type {\n",
       "        vertical-align: middle;\n",
       "    }\n",
       "\n",
       "    .dataframe tbody tr th {\n",
       "        vertical-align: top;\n",
       "    }\n",
       "\n",
       "    .dataframe thead th {\n",
       "        text-align: right;\n",
       "    }\n",
       "</style>\n",
       "<table border=\"1\" class=\"dataframe\">\n",
       "  <thead>\n",
       "    <tr style=\"text-align: right;\">\n",
       "      <th></th>\n",
       "      <th>text_title</th>\n",
       "      <th>text_file</th>\n",
       "      <th>tfidf_sum</th>\n",
       "      <th>tfidf_mean</th>\n",
       "    </tr>\n",
       "    <tr>\n",
       "      <th>text_id</th>\n",
       "      <th></th>\n",
       "      <th></th>\n",
       "      <th></th>\n",
       "      <th></th>\n",
       "    </tr>\n",
       "  </thead>\n",
       "  <tbody>\n",
       "    <tr>\n",
       "      <th>1</th>\n",
       "      <td>The Revolt</td>\n",
       "      <td>./data_in\\zapatistas-ch1.txt</td>\n",
       "      <td>3404.833849</td>\n",
       "      <td>0.851208</td>\n",
       "    </tr>\n",
       "    <tr>\n",
       "      <th>2</th>\n",
       "      <td>The First Days</td>\n",
       "      <td>./data_in\\zapatistas-ch2.txt</td>\n",
       "      <td>3946.819307</td>\n",
       "      <td>0.986705</td>\n",
       "    </tr>\n",
       "    <tr>\n",
       "      <th>3</th>\n",
       "      <td>The Cease - Fire</td>\n",
       "      <td>./data_in\\zapatistas-ch3.txt</td>\n",
       "      <td>4422.099618</td>\n",
       "      <td>1.105525</td>\n",
       "    </tr>\n",
       "    <tr>\n",
       "      <th>4</th>\n",
       "      <td>Solidarity</td>\n",
       "      <td>./data_in\\zapatistas-ch4.txt</td>\n",
       "      <td>2767.551815</td>\n",
       "      <td>0.691888</td>\n",
       "    </tr>\n",
       "    <tr>\n",
       "      <th>5</th>\n",
       "      <td>Broadening the Struggle</td>\n",
       "      <td>./data_in\\zapatistas-ch5.txt</td>\n",
       "      <td>4475.751055</td>\n",
       "      <td>1.118938</td>\n",
       "    </tr>\n",
       "    <tr>\n",
       "      <th>6</th>\n",
       "      <td>Building Ties</td>\n",
       "      <td>./data_in\\zapatistas-ch6.txt</td>\n",
       "      <td>2366.241261</td>\n",
       "      <td>0.591560</td>\n",
       "    </tr>\n",
       "    <tr>\n",
       "      <th>7</th>\n",
       "      <td>Before the Dialogue</td>\n",
       "      <td>./data_in\\zapatistas-ch7.txt</td>\n",
       "      <td>3600.266918</td>\n",
       "      <td>0.900067</td>\n",
       "    </tr>\n",
       "    <tr>\n",
       "      <th>8</th>\n",
       "      <td>The Dialogue</td>\n",
       "      <td>./data_in\\zapatistas-ch8.txt</td>\n",
       "      <td>4918.226172</td>\n",
       "      <td>1.229557</td>\n",
       "    </tr>\n",
       "    <tr>\n",
       "      <th>9</th>\n",
       "      <td>Concluding the Dialogue</td>\n",
       "      <td>./data_in\\zapatistas-ch9.txt</td>\n",
       "      <td>2593.543853</td>\n",
       "      <td>0.648386</td>\n",
       "    </tr>\n",
       "    <tr>\n",
       "      <th>10</th>\n",
       "      <td>Returning to the Communities</td>\n",
       "      <td>./data_in\\zapatistas-ch10.txt</td>\n",
       "      <td>2133.140935</td>\n",
       "      <td>0.533285</td>\n",
       "    </tr>\n",
       "    <tr>\n",
       "      <th>11</th>\n",
       "      <td>The Consultations</td>\n",
       "      <td>./data_in\\zapatistas-ch11.txt</td>\n",
       "      <td>4078.584132</td>\n",
       "      <td>1.019646</td>\n",
       "    </tr>\n",
       "    <tr>\n",
       "      <th>12</th>\n",
       "      <td>Rejecting the Government's Offer</td>\n",
       "      <td>./data_in\\zapatistas-ch12.txt</td>\n",
       "      <td>2782.697747</td>\n",
       "      <td>0.695674</td>\n",
       "    </tr>\n",
       "  </tbody>\n",
       "</table>\n",
       "</div>"
      ],
      "text/plain": [
       "                               text_title                      text_file  \\\n",
       "text_id                                                                    \n",
       "1                              The Revolt   ./data_in\\zapatistas-ch1.txt   \n",
       "2                          The First Days   ./data_in\\zapatistas-ch2.txt   \n",
       "3                        The Cease - Fire   ./data_in\\zapatistas-ch3.txt   \n",
       "4                              Solidarity   ./data_in\\zapatistas-ch4.txt   \n",
       "5                 Broadening the Struggle   ./data_in\\zapatistas-ch5.txt   \n",
       "6                           Building Ties   ./data_in\\zapatistas-ch6.txt   \n",
       "7                     Before the Dialogue   ./data_in\\zapatistas-ch7.txt   \n",
       "8                            The Dialogue   ./data_in\\zapatistas-ch8.txt   \n",
       "9                 Concluding the Dialogue   ./data_in\\zapatistas-ch9.txt   \n",
       "10           Returning to the Communities  ./data_in\\zapatistas-ch10.txt   \n",
       "11                      The Consultations  ./data_in\\zapatistas-ch11.txt   \n",
       "12       Rejecting the Government's Offer  ./data_in\\zapatistas-ch12.txt   \n",
       "\n",
       "           tfidf_sum  tfidf_mean  \n",
       "text_id                           \n",
       "1        3404.833849    0.851208  \n",
       "2        3946.819307    0.986705  \n",
       "3        4422.099618    1.105525  \n",
       "4        2767.551815    0.691888  \n",
       "5        4475.751055    1.118938  \n",
       "6        2366.241261    0.591560  \n",
       "7        3600.266918    0.900067  \n",
       "8        4918.226172    1.229557  \n",
       "9        2593.543853    0.648386  \n",
       "10       2133.140935    0.533285  \n",
       "11       4078.584132    1.019646  \n",
       "12       2782.697747    0.695674  "
      ]
     },
     "execution_count": 23,
     "metadata": {},
     "output_type": "execute_result"
    }
   ],
   "source": [
    "LIB"
   ]
  },
  {
   "cell_type": "code",
   "execution_count": 24,
   "id": "spectacular-hearts",
   "metadata": {},
   "outputs": [],
   "source": [
    "LABELS = LIB.apply(lambda x: \"{}, {}\".format(x.text_title, x.name), axis=1).values"
   ]
  },
  {
   "cell_type": "code",
   "execution_count": 25,
   "id": "missing-punishment",
   "metadata": {},
   "outputs": [],
   "source": [
    "def hca(sims, linkage_method='ward', color_thresh=.3, figsize=(5, 5)):\n",
    "    tree = sch.linkage(sims, method=linkage_method)\n",
    "    labels = LABELS\n",
    "    plt.figure()\n",
    "    fig, axes = plt.subplots(figsize=figsize)\n",
    "    dendrogram = sch.dendrogram(tree, \n",
    "                                labels=labels, \n",
    "                                orientation=\"left\", \n",
    "                                count_sort=True,\n",
    "                                distance_sort=True,\n",
    "                                above_threshold_color='.75',\n",
    "                                color_threshold=color_thresh\n",
    "                               )\n",
    "    plt.tick_params(axis='both', which='major', labelsize=14)"
   ]
  },
  {
   "cell_type": "markdown",
   "id": "advance-vatican",
   "metadata": {},
   "source": [
    "### Cosine"
   ]
  },
  {
   "cell_type": "code",
   "execution_count": 26,
   "id": "potential-squad",
   "metadata": {},
   "outputs": [
    {
     "data": {
      "text/plain": [
       "<Figure size 432x288 with 0 Axes>"
      ]
     },
     "metadata": {},
     "output_type": "display_data"
    },
    {
     "data": {
      "image/png": "[encoded data removed]",
      "text/plain": [
       "<Figure size 360x360 with 1 Axes>"
      ]
     },
     "metadata": {
      "needs_background": "light"
     },
     "output_type": "display_data"
    }
   ],
   "source": [
    "hca(PAIRS.cosine, color_thresh=1)"
   ]
  },
  {
   "cell_type": "markdown",
   "id": "adaptive-legislature",
   "metadata": {},
   "source": [
    "### JS"
   ]
  },
  {
   "cell_type": "code",
   "execution_count": 27,
   "id": "protected-tribute",
   "metadata": {},
   "outputs": [
    {
     "data": {
      "text/plain": [
       "<Figure size 432x288 with 0 Axes>"
      ]
     },
     "metadata": {},
     "output_type": "display_data"
    },
    {
     "data": {
      "image/png": "[encoded data removed]",
      "text/plain": [
       "<Figure size 360x360 with 1 Axes>"
      ]
     },
     "metadata": {
      "needs_background": "light"
     },
     "output_type": "display_data"
    }
   ],
   "source": [
    "hca(PAIRS.js, linkage_method='weighted', color_thresh=.5)"
   ]
  },
  {
   "cell_type": "markdown",
   "id": "atmospheric-bench",
   "metadata": {},
   "source": [
    "### Jaccard"
   ]
  },
  {
   "cell_type": "code",
   "execution_count": 28,
   "id": "restricted-protest",
   "metadata": {},
   "outputs": [
    {
     "data": {
      "text/plain": [
       "<Figure size 432x288 with 0 Axes>"
      ]
     },
     "metadata": {},
     "output_type": "display_data"
    },
    {
     "data": {
      "image/png": "[encoded data removed]",
      "text/plain": [
       "<Figure size 360x360 with 1 Axes>"
      ]
     },
     "metadata": {
      "needs_background": "light"
     },
     "output_type": "display_data"
    }
   ],
   "source": [
    "hca(PAIRS.jaccard, linkage_method='weighted', color_thresh=.3)"
   ]
  },
  {
   "cell_type": "markdown",
   "id": "conventional-fantasy",
   "metadata": {},
   "source": [
    "### Dice "
   ]
  },
  {
   "cell_type": "code",
   "execution_count": 29,
   "id": "renewable-suspension",
   "metadata": {},
   "outputs": [
    {
     "data": {
      "text/plain": [
       "<Figure size 432x288 with 0 Axes>"
      ]
     },
     "metadata": {},
     "output_type": "display_data"
    },
    {
     "data": {
      "image/png": "[encoded data removed]",
      "text/plain": [
       "<Figure size 360x360 with 1 Axes>"
      ]
     },
     "metadata": {
      "needs_background": "light"
     },
     "output_type": "display_data"
    }
   ],
   "source": [
    "hca(PAIRS.dice, linkage_method='weighted', color_thresh=.3)"
   ]
  },
  {
   "cell_type": "markdown",
   "id": "vanilla-safety",
   "metadata": {},
   "source": [
    "### Euclidean "
   ]
  },
  {
   "cell_type": "code",
   "execution_count": 30,
   "id": "mental-zoning",
   "metadata": {},
   "outputs": [
    {
     "data": {
      "text/plain": [
       "<Figure size 432x288 with 0 Axes>"
      ]
     },
     "metadata": {},
     "output_type": "display_data"
    },
    {
     "data": {
      "image/png": "[encoded data removed]",
      "text/plain": [
       "<Figure size 360x360 with 1 Axes>"
      ]
     },
     "metadata": {
      "needs_background": "light"
     },
     "output_type": "display_data"
    }
   ],
   "source": [
    "hca(PAIRS.euclidean, color_thresh=.3)"
   ]
  },
  {
   "cell_type": "markdown",
   "id": "interpreted-bracket",
   "metadata": {},
   "source": [
    "### Cityblock"
   ]
  },
  {
   "cell_type": "code",
   "execution_count": 31,
   "id": "communist-magnitude",
   "metadata": {
    "scrolled": true
   },
   "outputs": [
    {
     "data": {
      "text/plain": [
       "<Figure size 432x288 with 0 Axes>"
      ]
     },
     "metadata": {},
     "output_type": "display_data"
    },
    {
     "data": {
      "image/png": "[encoded data removed]",
      "text/plain": [
       "<Figure size 360x360 with 1 Axes>"
      ]
     },
     "metadata": {
      "needs_background": "light"
     },
     "output_type": "display_data"
    }
   ],
   "source": [
    "hca(PAIRS.cityblock, linkage_method='weighted', color_thresh=8)"
   ]
  },
  {
   "cell_type": "markdown",
   "id": "northern-delivery",
   "metadata": {},
   "source": [
    "## Saving "
   ]
  },
  {
   "cell_type": "code",
   "execution_count": 32,
   "id": "colonial-easter",
   "metadata": {},
   "outputs": [],
   "source": [
    "TOKEN.to_csv(f'{data_out}/{data_prefix}-TOKEN.csv')\n",
    "LIB.to_csv(f'{data_out}/{data_prefix}-LIB.csv')\n",
    "VOCAB.to_csv(f'{data_out}/{data_prefix}-VOCAB.csv')"
   ]
  }
 ],
 "metadata": {
  "kernelspec": {
   "display_name": "Python 3",
   "language": "python",
   "name": "python3"
  },
  "language_info": {
   "codemirror_mode": {
    "name": "ipython",
    "version": 3
   },
   "file_extension": ".py",
   "mimetype": "text/x-python",
   "name": "python",
   "nbconvert_exporter": "python",
   "pygments_lexer": "ipython3",
   "version": "3.6.4"
  },
  "toc": {
   "base_numbering": 1,
   "nav_menu": {},
   "number_sections": true,
   "sideBar": true,
   "skip_h1_title": true,
   "title_cell": "Table of Contents",
   "title_sidebar": "Contents",
   "toc_cell": false,
   "toc_position": {},
   "toc_section_display": true,
   "toc_window_display": true
  }
 },
 "nbformat": 4,
 "nbformat_minor": 5
}
