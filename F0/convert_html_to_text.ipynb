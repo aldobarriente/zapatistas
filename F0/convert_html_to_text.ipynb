## Converting source data into text files
