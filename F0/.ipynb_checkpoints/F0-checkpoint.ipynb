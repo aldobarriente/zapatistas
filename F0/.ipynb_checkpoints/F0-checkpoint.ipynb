{
 "cells": [
  {
   "cell_type": "markdown",
   "id": "absolute-satisfaction",
   "metadata": {},
   "source": [
    "# Converting HTML docs to text files"
   ]
  },
  {
   "cell_type": "markdown",
   "id": "framed-christmas",
   "metadata": {},
   "source": [
    "* **Name:** Aldo Barriente\n",
    "* **Course:** DS 5001\n",
    "* **Instructor:** Prof. Rafael Alvarado"
   ]
  },
  {
   "cell_type": "markdown",
   "id": "direct-trader",
   "metadata": {},
   "source": [
    "This process was done using the BeautifulSoup python library."
   ]
  },
  {
   "cell_type": "markdown",
   "id": "important-disorder",
   "metadata": {},
   "source": [
    "### Set up"
   ]
  },
  {
   "cell_type": "code",
   "execution_count": 1,
   "id": "sweet-happiness",
   "metadata": {},
   "outputs": [],
   "source": [
    "data_in = './data_in/'\n",
    "data_out = './data_out/'\n",
    "data_prefix = 'zapatistas'"
   ]
  },
  {
   "cell_type": "code",
   "execution_count": 2,
   "id": "close-remedy",
   "metadata": {},
   "outputs": [],
   "source": [
    "import os\n",
    "from bs4 import BeautifulSoup\n",
    "from bs4.diagnose import diagnose"
   ]
  },
  {
   "cell_type": "code",
   "execution_count": 3,
   "id": "typical-equipment",
   "metadata": {},
   "outputs": [],
   "source": [
    "chapters_soup = []\n",
    "\n",
    "for file in os.listdir(data_in): ## OS method taken from https://stackoverflow.com/questions/10377998/how-can-i-iterate-over-files-in-a-given-directory\n",
    "    with open(f'{data_in}/{file}', 'r') as chapter:\n",
    "        html_raw = chapter.read()\n",
    "        chapters_soup.append(BeautifulSoup(html_raw, 'html.parser'))"
   ]
  },
  {
   "cell_type": "code",
   "execution_count": 4,
   "id": "painful-realtor",
   "metadata": {},
   "outputs": [],
   "source": [
    "for i in range(1, len(chapters_soup) + 1):\n",
    "    with open(f'{data_out}/{data_prefix}-ch{i}.txt', 'w', encoding='utf8') as chapter:\n",
    "        chapter.write(chapters_soup[i].get_text())"
   ]
  }
 ],
 "metadata": {
  "kernelspec": {
   "display_name": "Python 3",
   "language": "python",
   "name": "python3"
  },
  "language_info": {
   "codemirror_mode": {
    "name": "ipython",
    "version": 3
   },
   "file_extension": ".py",
   "mimetype": "text/x-python",
   "name": "python",
   "nbconvert_exporter": "python",
   "pygments_lexer": "ipython3",
   "version": "3.6.4"
  },
  "toc": {
   "base_numbering": 1,
   "nav_menu": {},
   "number_sections": true,
   "sideBar": true,
   "skip_h1_title": false,
   "title_cell": "Table of Contents",
   "title_sidebar": "Contents",
   "toc_cell": false,
   "toc_position": {},
   "toc_section_display": true,
   "toc_window_display": false
  }
 },
 "nbformat": 4,
 "nbformat_minor": 5
}
