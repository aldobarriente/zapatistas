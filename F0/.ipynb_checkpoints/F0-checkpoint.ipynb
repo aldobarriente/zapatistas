{
 "cells": [
  {
   "cell_type": "markdown",
   "id": "backed-adult",
   "metadata": {},
   "source": [
    "# Converting HTML docs to text files"
   ]
  },
  {
   "cell_type": "markdown",
   "id": "smoking-access",
   "metadata": {},
   "source": [
    "Aldo Barriente\n",
    "DS 5001\n",
    "Prof. Rafael Alvarado"
   ]
  },
  {
   "cell_type": "markdown",
   "id": "absent-rabbit",
   "metadata": {},
   "source": [
    "### Set up"
   ]
  },
  {
   "cell_type": "code",
   "execution_count": 2,
   "id": "afraid-browser",
   "metadata": {},
   "outputs": [],
   "source": [
    "data_in = './data_in/'\n",
    "data_out = './data_out/'\n",
    "data_prefix = 'zapatistas'"
   ]
  },
  {
   "cell_type": "code",
   "execution_count": 3,
   "id": "arctic-wednesday",
   "metadata": {},
   "outputs": [],
   "source": [
    "import os\n",
    "from bs4 import BeautifulSoup"
   ]
  },
  {
   "cell_type": "code",
   "execution_count": null,
   "id": "frozen-newsletter",
   "metadata": {},
   "outputs": [],
   "source": [
    "html_docs = [for ]"
   ]
  }
 ],
 "metadata": {
  "kernelspec": {
   "display_name": "Python 3",
   "language": "python",
   "name": "python3"
  },
  "language_info": {
   "codemirror_mode": {
    "name": "ipython",
    "version": 3
   },
   "file_extension": ".py",
   "mimetype": "text/x-python",
   "name": "python",
   "nbconvert_exporter": "python",
   "pygments_lexer": "ipython3",
   "version": "3.6.4"
  },
  "toc": {
   "base_numbering": 1,
   "nav_menu": {},
   "number_sections": true,
   "sideBar": true,
   "skip_h1_title": false,
   "title_cell": "Table of Contents",
   "title_sidebar": "Contents",
   "toc_cell": false,
   "toc_position": {},
   "toc_section_display": true,
   "toc_window_display": false
  }
 },
 "nbformat": 4,
 "nbformat_minor": 5
}
