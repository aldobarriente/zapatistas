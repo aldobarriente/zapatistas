{
 "cells": [
  {
   "cell_type": "markdown",
   "id": "absolute-satisfaction",
   "metadata": {},
   "source": [
    "# Converting HTML docs to text files"
   ]
  },
  {
   "cell_type": "markdown",
   "id": "framed-christmas",
   "metadata": {},
   "source": [
    "* **Name:** Aldo Barriente\n",
    "* **Email:** aib9jp@virginia.edu\n",
    "* **Course:** DS 5001\n",
    "* **Date:** 20 April 2021"
   ]
  },
  {
   "cell_type": "markdown",
   "id": "important-disorder",
   "metadata": {},
   "source": [
    "## Set up"
   ]
  },
  {
   "cell_type": "code",
   "execution_count": 5,
   "id": "sweet-happiness",
   "metadata": {},
   "outputs": [],
   "source": [
    "data_in = './data_in/'\n",
    "data_out = './data_out/'\n",
    "data_prefix = 'zapatistas'"
   ]
  },
  {
   "cell_type": "code",
   "execution_count": 6,
   "id": "close-remedy",
   "metadata": {},
   "outputs": [],
   "source": [
    "import os\n",
    "from bs4 import BeautifulSoup\n",
    "from bs4.diagnose import diagnose"
   ]
  },
  {
   "cell_type": "markdown",
   "id": "proprietary-cuisine",
   "metadata": {},
   "source": [
    "## Extracting text from `.html` files"
   ]
  },
  {
   "cell_type": "markdown",
   "id": "about-thanksgiving",
   "metadata": {},
   "source": [
    "The text was extracted using the BeautifulSoup library"
   ]
  },
  {
   "cell_type": "code",
   "execution_count": 7,
   "id": "typical-equipment",
   "metadata": {},
   "outputs": [],
   "source": [
    "chapters_soup = []\n",
    "\n",
    "for file in os.listdir(data_in): ## OS method taken from https://stackoverflow.com/questions/10377998/how-can-i-iterate-over-files-in-a-given-directory\n",
    "    with open(f'{data_in}/{file}', 'r') as chapter:\n",
    "        html_raw = chapter.read()\n",
    "        chapters_soup.append(BeautifulSoup(html_raw, 'html.parser'))"
   ]
  },
  {
   "cell_type": "markdown",
   "id": "dense-bradley",
   "metadata": {},
   "source": [
    "## Saving to `.txt` files"
   ]
  },
  {
   "cell_type": "code",
   "execution_count": 9,
   "id": "painful-realtor",
   "metadata": {},
   "outputs": [],
   "source": [
    "for i in range(len(chapters_soup)):\n",
    "    with open(f'{data_out}/{data_prefix}-ch{i+1}.txt', 'w', encoding='utf8') as chapter:\n",
    "        chapter.write(chapters_soup[i].get_text())"
   ]
  }
 ],
 "metadata": {
  "kernelspec": {
   "display_name": "Python 3",
   "language": "python",
   "name": "python3"
  },
  "language_info": {
   "codemirror_mode": {
    "name": "ipython",
    "version": 3
   },
   "file_extension": ".py",
   "mimetype": "text/x-python",
   "name": "python",
   "nbconvert_exporter": "python",
   "pygments_lexer": "ipython3",
   "version": "3.6.4"
  },
  "toc": {
   "base_numbering": 1,
   "nav_menu": {},
   "number_sections": true,
   "sideBar": true,
   "skip_h1_title": true,
   "title_cell": "Table of Contents",
   "title_sidebar": "Contents",
   "toc_cell": false,
   "toc_position": {},
   "toc_section_display": true,
   "toc_window_display": true
  }
 },
 "nbformat": 4,
 "nbformat_minor": 5
}
